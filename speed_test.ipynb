{
 "cells": [
  {
   "cell_type": "code",
   "execution_count": 7,
   "metadata": {},
   "outputs": [],
   "source": [
    "from ui_instructions_format import UI_INSTRUCTIONS_FORMAT\n",
    "from openAI_model_info import temperature, api_key\n",
    "\n",
    "from typing import List, Optional\n",
    "from pydantic import BaseModel, Field\n",
    "\n",
    "import dotenv\n",
    "\n",
    "import json\n",
    "from pydantic import BaseModel, Field, validator\n",
    "from typing import List, Optional\n",
    "import streamlit as st\n",
    "import time\n",
    "\n",
    "from langchain.llms import OpenAI\n",
    "from langchain.chat_models import ChatOpenAI\n",
    "\n",
    "from langchain.output_parsers import PydanticOutputParser\n",
    "\n",
    "from langchain.prompts import (\n",
    "    PromptTemplate,\n",
    "    ChatPromptTemplate,\n",
    "    HumanMessagePromptTemplate,\n",
    ")\n",
    "\n",
    "\n",
    "parser = PydanticOutputParser(pydantic_object=UI_INSTRUCTIONS_FORMAT)\n",
    "\n"
   ]
  },
  {
   "cell_type": "code",
   "execution_count": 8,
   "metadata": {},
   "outputs": [],
   "source": [
    "def fetch_ui_instructions(query):\n",
    "    prompt = PromptTemplate(\n",
    "        template='''\n",
    "        You are a a highly knowegeable assitant having a conversation with a curious person.\n",
    "        Your job is to teach and help the person regarding whatever they ask.\n",
    "        Think carefully before asnwering them, and ensure that you\n",
    "        take the entire conversation into account when answering.\n",
    "                \n",
    "        In the case that the student has a specific goal, please \n",
    "        bring the interation to an end when the time is right. Think\n",
    "        carefully about this. \n",
    "        \n",
    "        Only respond using the format_instructions.\\n\n",
    "        \n",
    "        {format_instructions}\\n\n",
    "        {query}\\n''',\n",
    "        input_variables=[\"query\"],\n",
    "        partial_variables={\"format_instructions\": parser.get_format_instructions()},\n",
    "    )\n",
    "    _input = prompt.format_prompt(query=query)\n",
    "    output = model(_input.to_string())\n",
    "    return dict(parser.parse(output))\n"
   ]
  },
  {
   "cell_type": "code",
   "execution_count": 9,
   "metadata": {},
   "outputs": [
    {
     "name": "stderr",
     "output_type": "stream",
     "text": [
      "/Users/jamisonproctor/Documents/dev/intelligent_ui/venv/lib/python3.11/site-packages/langchain/llms/openai.py:790: UserWarning: You are trying to use a chat model. This way of initializing it is no longer supported. Instead, please use: `from langchain.chat_models import ChatOpenAI`\n",
      "  warnings.warn(\n"
     ]
    },
    {
     "data": {
      "text/plain": [
       "{'Overview': \"Making a website is an exciting and creative process that allows you to share your ideas, products, or services with the world. Whether you're a beginner or have some experience, building a website involves several key steps. Let's dive into the process and explore the different elements involved in creating a website!\",\n",
       " 'Overview_label': 'Creating a Website',\n",
       " 'Title': 'How to Make a Website',\n",
       " 'ui_element_1_type': 'ListofButtons',\n",
       " 'ui_element_1_label': 'Choose your level of experience:',\n",
       " 'ui_element_1_options': ['Beginner', 'Intermediate', 'Advanced'],\n",
       " 'ui_element_1_min_value': None,\n",
       " 'ui_element_1_max_value': None,\n",
       " 'ui_element_2_type': None,\n",
       " 'ui_element_2_label': None,\n",
       " 'ui_element_2_options': None,\n",
       " 'ui_element_2_min_value': None,\n",
       " 'ui_element_2_max_value': None,\n",
       " 'ui_element_3_type': None,\n",
       " 'ui_element_3_label': None,\n",
       " 'ui_element_3_options': None,\n",
       " 'ui_element_3_min_value': None,\n",
       " 'ui_element_3_max_value': None}"
      ]
     },
     "execution_count": 9,
     "metadata": {},
     "output_type": "execute_result"
    }
   ],
   "source": [
    "model_name = 'gpt-3.5-turbo'\n",
    "model = OpenAI(model_name=model_name, temperature=temperature, api_key=api_key) \n",
    "query = \"How do I make a website?\"\n",
    "\n",
    "fetch_ui_instructions(query)"
   ]
  },
  {
   "cell_type": "code",
   "execution_count": 10,
   "metadata": {},
   "outputs": [
    {
     "data": {
      "text/plain": [
       "{'Overview': 'Creating a website can be a fun and rewarding experience, allowing you to share your ideas, showcase your work, or even start a business! 🌐 There are several ways to make a website, from coding it yourself to using website builders like WordPress or Wix. The process generally involves choosing a domain name, selecting a web host, designing your site, and then publishing it for the world to see. 🚀',\n",
       " 'Overview_label': 'Website Creation 101 🛠️',\n",
       " 'Title': \"Let's Build a Website! 🏗️\",\n",
       " 'ui_element_1_type': 'ListofButtons',\n",
       " 'ui_element_1_label': 'Choose your path 🛤️',\n",
       " 'ui_element_1_options': ['Code it yourself', 'Use a website builder'],\n",
       " 'ui_element_1_min_value': None,\n",
       " 'ui_element_1_max_value': None,\n",
       " 'ui_element_2_type': 'Button',\n",
       " 'ui_element_2_label': 'Next Step',\n",
       " 'ui_element_2_options': None,\n",
       " 'ui_element_2_min_value': None,\n",
       " 'ui_element_2_max_value': None,\n",
       " 'ui_element_3_type': 'TextInput',\n",
       " 'ui_element_3_label': 'Any questions so far? 🤔',\n",
       " 'ui_element_3_options': None,\n",
       " 'ui_element_3_min_value': None,\n",
       " 'ui_element_3_max_value': None}"
      ]
     },
     "execution_count": 10,
     "metadata": {},
     "output_type": "execute_result"
    }
   ],
   "source": [
    "model_name = 'gpt-4'\n",
    "model = OpenAI(model_name=model_name, temperature=temperature, api_key=api_key) \n",
    "query = \"How do I make a website?\"\n",
    "fetch_ui_instructions(query)"
   ]
  },
  {
   "cell_type": "code",
   "execution_count": 11,
   "metadata": {},
   "outputs": [
    {
     "data": {
      "text/plain": [
       "{'Overview': \"Making a website is an exciting and creative process that allows you to share your ideas, products, or services with the world. Whether you're a beginner or have some experience, building a website involves several key steps. Let's dive into the process and explore the different elements involved in creating a website!\",\n",
       " 'Overview_label': 'Building Your Own Website',\n",
       " 'Title': 'How to Make a Website',\n",
       " 'ui_element_1_type': 'ListofButtons',\n",
       " 'ui_element_1_label': 'Choose your level of experience:',\n",
       " 'ui_element_1_options': ['Beginner', 'Intermediate', 'Advanced'],\n",
       " 'ui_element_1_min_value': None,\n",
       " 'ui_element_1_max_value': None,\n",
       " 'ui_element_2_type': None,\n",
       " 'ui_element_2_label': None,\n",
       " 'ui_element_2_options': None,\n",
       " 'ui_element_2_min_value': None,\n",
       " 'ui_element_2_max_value': None,\n",
       " 'ui_element_3_type': None,\n",
       " 'ui_element_3_label': None,\n",
       " 'ui_element_3_options': None,\n",
       " 'ui_element_3_min_value': None,\n",
       " 'ui_element_3_max_value': None}"
      ]
     },
     "execution_count": 11,
     "metadata": {},
     "output_type": "execute_result"
    }
   ],
   "source": [
    "model_name = 'gpt-3.5-turbo'\n",
    "model = OpenAI(model_name=model_name, temperature=temperature, api_key=api_key) \n",
    "query = \"How do I make a website?\"\n",
    "\n",
    "fetch_ui_instructions(query)"
   ]
  },
  {
   "cell_type": "code",
   "execution_count": 12,
   "metadata": {},
   "outputs": [
    {
     "data": {
      "text/plain": [
       "{'Overview': \"Creating a website can be a fun and rewarding experience, allowing you to share your ideas, products, or services with the world. 🌐 The process involves several steps, including planning your website, designing it, coding it, testing it, and maintaining it. You can either code it from scratch using languages like HTML, CSS, and JavaScript, or use a website builder like WordPress, Wix, or Squarespace. 🛠️ Let's dive into the world of web development! 🚀\",\n",
       " 'Overview_label': 'Web Development 101 🕸️',\n",
       " 'Title': 'How to Make a Website 🖥️',\n",
       " 'ui_element_1_type': 'ListofButtons',\n",
       " 'ui_element_1_label': 'Choose your path 🛤️',\n",
       " 'ui_element_1_options': ['Code from scratch', 'Use a website builder'],\n",
       " 'ui_element_1_min_value': None,\n",
       " 'ui_element_1_max_value': None,\n",
       " 'ui_element_2_type': 'Button',\n",
       " 'ui_element_2_label': 'Next Step ➡️',\n",
       " 'ui_element_2_options': None,\n",
       " 'ui_element_2_min_value': None,\n",
       " 'ui_element_2_max_value': None,\n",
       " 'ui_element_3_type': 'TextInput',\n",
       " 'ui_element_3_label': 'Any questions? 🤔',\n",
       " 'ui_element_3_options': None,\n",
       " 'ui_element_3_min_value': None,\n",
       " 'ui_element_3_max_value': None}"
      ]
     },
     "execution_count": 12,
     "metadata": {},
     "output_type": "execute_result"
    }
   ],
   "source": [
    "model_name = 'gpt-4'\n",
    "model = OpenAI(model_name=model_name, temperature=temperature, api_key=api_key) \n",
    "query = \"How do I make a website?\"\n",
    "fetch_ui_instructions(query)"
   ]
  }
 ],
 "metadata": {
  "kernelspec": {
   "display_name": "venv",
   "language": "python",
   "name": "python3"
  },
  "language_info": {
   "codemirror_mode": {
    "name": "ipython",
    "version": 3
   },
   "file_extension": ".py",
   "mimetype": "text/x-python",
   "name": "python",
   "nbconvert_exporter": "python",
   "pygments_lexer": "ipython3",
   "version": "3.11.5"
  },
  "orig_nbformat": 4
 },
 "nbformat": 4,
 "nbformat_minor": 2
}
