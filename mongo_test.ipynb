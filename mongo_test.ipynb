{
 "cells": [
  {
   "cell_type": "code",
   "execution_count": 1,
   "metadata": {},
   "outputs": [],
   "source": [
    "from mongodb_converastion_logging import connect_mongodb_collection, initialize_conversation, update_conversation, check_conversation\n",
    "conversation_id = initialize_conversation(model_name = \"test\")"
   ]
  },
  {
   "cell_type": "code",
   "execution_count": 2,
   "metadata": {},
   "outputs": [],
   "source": [
    "query = \"abc\"\n",
    "response = \"def\"\n",
    "update_conversation(conversation_id, query, response)"
   ]
  },
  {
   "cell_type": "code",
   "execution_count": 3,
   "metadata": {},
   "outputs": [
    {
     "name": "stdout",
     "output_type": "stream",
     "text": [
      "Conversation ID: 6514002ae519dbedfd3c30df\n",
      "Model Used: test\n",
      "==================================================\n",
      "Interaction #1\n",
      "User: abc\n",
      "Chatbot: def\n",
      "Timestamp: 2023-09-27T12:12:59.553925\n",
      "--------------------------------------------------\n",
      "Interaction #2\n",
      "User: abc\n",
      "Chatbot: def\n",
      "Timestamp: 2023-09-27T12:13:00.447126\n",
      "--------------------------------------------------\n"
     ]
    }
   ],
   "source": [
    "query = \"abc\"\n",
    "response = \"def\"\n",
    "update_conversation(conversation_id, query, response)\n",
    "check_conversation(conversation_id)"
   ]
  }
 ],
 "metadata": {
  "kernelspec": {
   "display_name": "venv",
   "language": "python",
   "name": "python3"
  },
  "language_info": {
   "codemirror_mode": {
    "name": "ipython",
    "version": 3
   },
   "file_extension": ".py",
   "mimetype": "text/x-python",
   "name": "python",
   "nbconvert_exporter": "python",
   "pygments_lexer": "ipython3",
   "version": "3.11.5"
  },
  "orig_nbformat": 4
 },
 "nbformat": 4,
 "nbformat_minor": 2
}
