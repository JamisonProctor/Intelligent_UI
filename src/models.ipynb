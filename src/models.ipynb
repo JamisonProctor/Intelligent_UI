{
 "cells": [
  {
   "cell_type": "code",
   "execution_count": null,
   "metadata": {},
   "outputs": [],
   "source": [
    "import ChatOpenAI\n",
    "\n",
    "class OpenAI_Model:\n",
    "    def __init__(self, model_name, temperature, api_key):\n",
    "        self.model_name = model_name\n",
    "        self.temperature = temperature\n",
    "        self.api_key = api_key\n",
    "\n",
    "    def get_response(self, prompt):\n",
    "        self.prompt = prompt\n",
    "        openai.api_key = self.api_key\n",
    "\n",
    "        "
   ]
  }
 ],
 "metadata": {
  "language_info": {
   "name": "python"
  },
  "orig_nbformat": 4
 },
 "nbformat": 4,
 "nbformat_minor": 2
}
