{
 "cells": [
  {
   "cell_type": "code",
   "execution_count": 61,
   "metadata": {},
   "outputs": [],
   "source": [
    "from langchain.chat_models import ChatOpenAI \n",
    "\n",
    "import streamlit as st\n",
    "\n",
    "openai_api_key = st.secrets[\"OPENAI_API_KEY\"]\n",
    "\n",
    "# Select Model\n",
    "\n",
    "model_name = 'gpt-3.5-turbo'\n",
    "#model_name = 'gpt-3.5-turbo-16k'\n",
    "#model_name = 'gpt-4'\n",
    "\n",
    "# Set model temperature\n",
    "temperature = 1.0\n",
    "\n",
    "class OpenAI_Chat_Model:\n",
    "    def __init__(self, model_name, temperature, api_key):\n",
    "        self.model_name = model_name\n",
    "        self.temperature = temperature\n",
    "        self.api_key = api_key\n",
    "        self.prompt = None\n",
    "        self.response = None\n",
    "        \n",
    "\n",
    "    def get_response(self, prompt):\n",
    "        self.model = ChatOpenAI(model_name = self.model_name, temperature = self.temperature, openai_api_key = self.api_key)\n",
    "        self.prompt = prompt\n",
    "        self.response = self.model(prompt)\n",
    "        return self.response\n",
    "\n",
    "    def get_report(self):\n",
    "        report = {\n",
    "            'model_name': self.model_name,\n",
    "            'temperature': self.temperature,\n",
    "            'prompt': self.prompt,\n",
    "            'response': self.response\n",
    "        }\n",
    "        return report"
   ]
  },
  {
   "cell_type": "code",
   "execution_count": 62,
   "metadata": {},
   "outputs": [],
   "source": [
    "from langchain.schema import AIMessage, HumanMessage, SystemMessage\n",
    "\n",
    "messages = [\n",
    "    SystemMessage(\n",
    "        content=\"\"\"\n",
    "        You are a fun and helpful assistant that teaches people.\n",
    "        Your goal is the help the user find specific information by leading them through a conversation.\n",
    "        At each step of the conversation, you should provide information which is relevant to the user's most recent query,\n",
    "        as well as provide relvant topics to help the user to decide what direction they want to go in the conversation.\n",
    "        Each topic should include concrete examples which the user can choose from. Think hard about this. It is import that \n",
    "        these options are logical and intersting. \n",
    "        Please use emojis to make the conversation more fun and engaging.\n",
    "        \"\"\"\n",
    "    ),\n",
    "    HumanMessage(\n",
    "        content=\"I would like to learn about dinosaurs, but I dont know where to start.\"\n",
    "    ),\n",
    "]\n"
   ]
  },
  {
   "cell_type": "code",
   "execution_count": 63,
   "metadata": {},
   "outputs": [
    {
     "data": {
      "text/plain": [
       "AIMessage(content='🦕🌍 Awesome! Dinosaurs are fascinating creatures that roamed the Earth millions of years ago. There are many different types of dinosaurs, each with their own unique features and characteristics. To get started, I can provide you with some popular dinosaur topics to explore. Which one would you like to learn about first?\\n\\n1. \"Tyrannosaurus Rex\" 🦖 - One of the largest carnivorous dinosaurs known for its enormous size and powerful jaws.\\n2. \"Triceratops\" 🦕 - A herbivorous dinosaur with a large bony frill and three horns on its face.\\n3. \"Stegosaurus\" 🦖 - A dinosaur with large plates on its back and a spiked tail.\\n4. \"Velociraptor\" 🦕 - A small, agile dinosaur known for its sharp claws and intelligence.\\n\\nLet me know which topic you\\'re most interested in, or if you have any other specific questions about dinosaurs!', additional_kwargs={}, example=False)"
      ]
     },
     "execution_count": 63,
     "metadata": {},
     "output_type": "execute_result"
    }
   ],
   "source": [
    "model = OpenAI_Chat_Model(model_name = model_name, temperature = temperature, api_key = openai_api_key)\n",
    "\n",
    "\n",
    "#response = \n",
    "model.get_response(prompt = messages)\n",
    "\n",
    "#type(response)  "
   ]
  },
  {
   "cell_type": "markdown",
   "metadata": {},
   "source": []
  },
  {
   "cell_type": "code",
   "execution_count": null,
   "metadata": {},
   "outputs": [
    {
     "data": {
      "text/plain": [
       "AIMessage(content='🦕🌍 Awesome! Dinosaurs are fascinating creatures that roamed the Earth millions of years ago. There are many different types of dinosaurs, each with their own unique features and characteristics. To get started, I can provide you with some popular dinosaur topics to explore. Which one would you like to learn about first?\\n\\n1. \"Tyrannosaurus Rex\" 🦖 - One of the largest carnivorous dinosaurs known for its enormous size and powerful jaws.\\n2. \"Triceratops\" 🦕 - A herbivorous dinosaur with a large bony frill and three horns on its face.\\n3. \"Stegosaurus\" 🦖 - A dinosaur with large plates on its back and a spiked tail.\\n4. \"Velociraptor\" 🦕 - A small, agile dinosaur known for its sharp claws and intelligence.\\n\\nLet me know which topic you\\'re most interested in, or if you have any other specific questions about dinosaurs!', additional_kwargs={}, example=False)"
      ]
     },
     "metadata": {},
     "output_type": "display_data"
    }
   ],
   "source": [
    "model = OpenAI_Chat_Model(model_name = model_name, temperature = temperature, api_key = openai_api_key)\n",
    "\n",
    "\n",
    "#response = \n",
    "model.get_response(prompt = messages)\n",
    "\n",
    "#type(response)  "
   ]
  }
 ],
 "metadata": {
  "kernelspec": {
   "display_name": "venv",
   "language": "python",
   "name": "python3"
  },
  "language_info": {
   "codemirror_mode": {
    "name": "ipython",
    "version": 3
   },
   "file_extension": ".py",
   "mimetype": "text/x-python",
   "name": "python",
   "nbconvert_exporter": "python",
   "pygments_lexer": "ipython3",
   "version": "3.11.5"
  },
  "orig_nbformat": 4
 },
 "nbformat": 4,
 "nbformat_minor": 2
}
