{
 "cells": [
  {
   "cell_type": "code",
   "execution_count": 1,
   "metadata": {},
   "outputs": [],
   "source": [
    "from langchain.chat_models import ChatOpenAI\n",
    "from langchain.llms import OpenAI\n",
    "\n",
    "import streamlit as st\n",
    "openai_api_key = st.secrets[\"OPENAI_API_KEY\"]\n",
    "\n",
    "# Select Model\n",
    "\n",
    "content_model_name = 'gpt-3.5-turbo'\n",
    "#content_model_name = 'gpt-3.5-turbo-16k'\n",
    "#content_model_name = 'gpt-4'\n",
    "\n",
    "code_model_name = 'gpt-3.5-turbo'\n",
    "#code_model_name = 'gpt-3.5-turbo-16k'\n",
    "#code_model_name = 'gpt-4'\n",
    "\n",
    "# Set model temperature\n",
    "content_model_temperature = 1.2\n",
    "code_model_temperature = 0.2\n",
    "\n",
    "class OpenAI_Chat_Model:\n",
    "    def __init__(self, model_name, temperature, api_key):\n",
    "        self.model_name = model_name\n",
    "        self.temperature = temperature\n",
    "        self.api_key = api_key\n",
    "        self.prompt = None\n",
    "        self.response = None\n",
    "        \n",
    "\n",
    "    def get_response(self, prompt):\n",
    "        self.model = OpenAI(model_name = self.model_name, temperature = self.temperature, openai_api_key = self.api_key)\n",
    "        self.prompt = prompt\n",
    "        self.response = self.model(prompt)\n",
    "        return self.response\n",
    "\n",
    "    def get_report(self):\n",
    "        report = {\n",
    "            'model_name': self.model_name,\n",
    "            'temperature': self.temperature,\n",
    "            'prompt': self.prompt,\n",
    "            'response': self.response\n",
    "        }\n",
    "        return report"
   ]
  },
  {
   "cell_type": "code",
   "execution_count": 2,
   "metadata": {},
   "outputs": [],
   "source": [
    "from langchain.output_parsers import PydanticOutputParser\n",
    "from langchain.prompts import PromptTemplate\n",
    "\n",
    "from backend.models import UI_INSTRUCTIONS_FORMAT, CONTENT_INSTRUCTIONS_FORMAT\n",
    "\n",
    "content_parser = PydanticOutputParser(pydantic_object=CONTENT_INSTRUCTIONS_FORMAT)\n",
    "code_parser = PydanticOutputParser(pydantic_object=UI_INSTRUCTIONS_FORMAT)"
   ]
  },
  {
   "cell_type": "code",
   "execution_count": 3,
   "metadata": {},
   "outputs": [],
   "source": [
    "content_query = \"I want to learn about dinosaurs, but I don't know where to start.\""
   ]
  },
  {
   "cell_type": "code",
   "execution_count": 4,
   "metadata": {},
   "outputs": [],
   "source": [
    "content_prompt_template = PromptTemplate(\n",
    "    template = '''\n",
    "        You are a a highly knowegeable assitant having a conversation with a curious person.\n",
    "        Your job is to educate them about the topic they are interested in. \n",
    "\n",
    "        {format_instructions}\\n\n",
    "        {query}\\n''',\n",
    "        input_variables=[\"query\"],\n",
    "        partial_variables={\"format_instructions\": content_parser.get_format_instructions()},\n",
    "    )\n",
    "\n",
    "content_prompt = content_prompt_template.format_prompt(query=content_query).to_string()"
   ]
  },
  {
   "cell_type": "code",
   "execution_count": 5,
   "metadata": {},
   "outputs": [],
   "source": [
    "content_model = OpenAI_Chat_Model(model_name = content_model_name, temperature = content_model_temperature, api_key = openai_api_key)"
   ]
  },
  {
   "cell_type": "code",
   "execution_count": 6,
   "metadata": {},
   "outputs": [
    {
     "name": "stderr",
     "output_type": "stream",
     "text": [
      "/Users/jamisonproctor/Documents/dev/intelligent_ui/venv/lib/python3.11/site-packages/langchain/llms/openai.py:202: UserWarning: You are trying to use a chat model. This way of initializing it is no longer supported. Instead, please use: `from langchain.chat_models import ChatOpenAI`\n",
      "  warnings.warn(\n",
      "/Users/jamisonproctor/Documents/dev/intelligent_ui/venv/lib/python3.11/site-packages/langchain/llms/openai.py:790: UserWarning: You are trying to use a chat model. This way of initializing it is no longer supported. Instead, please use: `from langchain.chat_models import ChatOpenAI`\n",
      "  warnings.warn(\n"
     ]
    }
   ],
   "source": [
    "content_response = content_model.get_response(prompt=content_prompt)"
   ]
  },
  {
   "cell_type": "code",
   "execution_count": 7,
   "metadata": {},
   "outputs": [],
   "source": [
    "content_response_dict = dict(content_parser.parse(content_response))"
   ]
  },
  {
   "cell_type": "code",
   "execution_count": 8,
   "metadata": {},
   "outputs": [
    {
     "data": {
      "text/plain": [
       "{'Overview': \"Dinosaurs were an incredible group of reptiles that roamed the Earth millions of years ago 🦕🦖. They come in various shapes and sizes and existed for a staggering 160 million years. 🌍🕰️\\n\\nDinosaurs first appeared during the Mesozoic Era and were dominant land vertebrates during that time. They were an incredibly diverse group, ranging from the massive long-necked herbivorous Brachiosaurus to the swift and agile carnivorous Velociraptor. 🦕🏃🦖\\n\\nDinosaurs lived in a wide variety of environments, from lush jungles to arid deserts. They captivate our imagination and have been the subject of countless books, movies, and scientific studies. 📚🎥🔬\\n\\nIf you want to dive deeper into the world of dinosaurs, we can explore specific species, their extinction, notable discoveries, or anything else you're curious about! Just let me know where you'd like to begin. 🌟🦕🌟\",\n",
       " 'Title': 'Dinosaurs 🦖'}"
      ]
     },
     "execution_count": 8,
     "metadata": {},
     "output_type": "execute_result"
    }
   ],
   "source": [
    "content_response_dict"
   ]
  },
  {
   "cell_type": "code",
   "execution_count": 9,
   "metadata": {},
   "outputs": [],
   "source": [
    "code_query = content_response_dict['Overview']"
   ]
  },
  {
   "cell_type": "code",
   "execution_count": 10,
   "metadata": {},
   "outputs": [],
   "source": [
    "code_prompt = PromptTemplate(\n",
    "    template = '''\n",
    "        You are a super creative UI designer and content creator. You are very creative and have a lot of ideas.\n",
    "        You always use a lot of emojis to make your content more engaging.\n",
    "        \n",
    "        You will help to create a UI which will help the reader to further explore the topic.\n",
    "\n",
    "        Only respond using the format_instructions.\\n\n",
    "        \n",
    "        {format_instructions}\\n\n",
    "        {query}\\n''',\n",
    "        input_variables=[\"query\"],\n",
    "        partial_variables={\"format_instructions\": code_parser.get_format_instructions()},\n",
    "    )\n",
    "\n",
    "formated_code_prompt = code_prompt.format_prompt(query=code_query).to_string()"
   ]
  },
  {
   "cell_type": "code",
   "execution_count": 11,
   "metadata": {},
   "outputs": [],
   "source": [
    "code_model = OpenAI_Chat_Model(model_name = code_model_name, temperature = code_model_temperature, api_key = openai_api_key)"
   ]
  },
  {
   "cell_type": "code",
   "execution_count": 12,
   "metadata": {},
   "outputs": [
    {
     "ename": "ValidationError",
     "evalue": "7 validation errors for UI_INSTRUCTIONS_FORMAT\nui_element_1_min_value\n  Field required [type=missing, input_value={'ui_element_1_label': 'C...nt_3_type': 'TextInput'}, input_type=dict]\n    For further information visit https://errors.pydantic.dev/2.3/v/missing\nui_element_1_max_value\n  Field required [type=missing, input_value={'ui_element_1_label': 'C...nt_3_type': 'TextInput'}, input_type=dict]\n    For further information visit https://errors.pydantic.dev/2.3/v/missing\nui_element_2_min_value\n  Field required [type=missing, input_value={'ui_element_1_label': 'C...nt_3_type': 'TextInput'}, input_type=dict]\n    For further information visit https://errors.pydantic.dev/2.3/v/missing\nui_element_2_max_value\n  Field required [type=missing, input_value={'ui_element_1_label': 'C...nt_3_type': 'TextInput'}, input_type=dict]\n    For further information visit https://errors.pydantic.dev/2.3/v/missing\nui_element_3_options\n  Field required [type=missing, input_value={'ui_element_1_label': 'C...nt_3_type': 'TextInput'}, input_type=dict]\n    For further information visit https://errors.pydantic.dev/2.3/v/missing\nui_element_3_min_value\n  Field required [type=missing, input_value={'ui_element_1_label': 'C...nt_3_type': 'TextInput'}, input_type=dict]\n    For further information visit https://errors.pydantic.dev/2.3/v/missing\nui_element_3_max_value\n  Field required [type=missing, input_value={'ui_element_1_label': 'C...nt_3_type': 'TextInput'}, input_type=dict]\n    For further information visit https://errors.pydantic.dev/2.3/v/missing",
     "output_type": "error",
     "traceback": [
      "\u001b[0;31m---------------------------------------------------------------------------\u001b[0m",
      "\u001b[0;31mValidationError\u001b[0m                           Traceback (most recent call last)",
      "\u001b[1;32m/Users/jamisonproctor/Documents/dev/intelligent_ui/src/models.ipynb Cell 12\u001b[0m line \u001b[0;36m2\n\u001b[1;32m      <a href='vscode-notebook-cell:/Users/jamisonproctor/Documents/dev/intelligent_ui/src/models.ipynb#X23sZmlsZQ%3D%3D?line=0'>1</a>\u001b[0m code_response \u001b[39m=\u001b[39m code_model\u001b[39m.\u001b[39mget_response(prompt\u001b[39m=\u001b[39mformated_code_prompt)\n\u001b[0;32m----> <a href='vscode-notebook-cell:/Users/jamisonproctor/Documents/dev/intelligent_ui/src/models.ipynb#X23sZmlsZQ%3D%3D?line=1'>2</a>\u001b[0m code_response_dict \u001b[39m=\u001b[39m \u001b[39mdict\u001b[39m(code_parser\u001b[39m.\u001b[39;49mparse(code_response))\n\u001b[1;32m      <a href='vscode-notebook-cell:/Users/jamisonproctor/Documents/dev/intelligent_ui/src/models.ipynb#X23sZmlsZQ%3D%3D?line=3'>4</a>\u001b[0m code_response_dict\n",
      "File \u001b[0;32m~/Documents/dev/intelligent_ui/venv/lib/python3.11/site-packages/langchain/output_parsers/pydantic.py:28\u001b[0m, in \u001b[0;36mPydanticOutputParser.parse\u001b[0;34m(self, text)\u001b[0m\n\u001b[1;32m     26\u001b[0m         json_str \u001b[39m=\u001b[39m match\u001b[39m.\u001b[39mgroup()\n\u001b[1;32m     27\u001b[0m     json_object \u001b[39m=\u001b[39m json\u001b[39m.\u001b[39mloads(json_str, strict\u001b[39m=\u001b[39m\u001b[39mFalse\u001b[39;00m)\n\u001b[0;32m---> 28\u001b[0m     \u001b[39mreturn\u001b[39;00m \u001b[39mself\u001b[39;49m\u001b[39m.\u001b[39;49mpydantic_object\u001b[39m.\u001b[39;49mparse_obj(json_object)\n\u001b[1;32m     30\u001b[0m \u001b[39mexcept\u001b[39;00m (json\u001b[39m.\u001b[39mJSONDecodeError, ValidationError) \u001b[39mas\u001b[39;00m e:\n\u001b[1;32m     31\u001b[0m     name \u001b[39m=\u001b[39m \u001b[39mself\u001b[39m\u001b[39m.\u001b[39mpydantic_object\u001b[39m.\u001b[39m\u001b[39m__name__\u001b[39m\n",
      "File \u001b[0;32m~/Documents/dev/intelligent_ui/venv/lib/python3.11/site-packages/typing_extensions.py:2360\u001b[0m, in \u001b[0;36mdeprecated.<locals>.decorator.<locals>.wrapper\u001b[0;34m(*args, **kwargs)\u001b[0m\n\u001b[1;32m   2357\u001b[0m \u001b[39m@functools\u001b[39m\u001b[39m.\u001b[39mwraps(arg)\n\u001b[1;32m   2358\u001b[0m \u001b[39mdef\u001b[39;00m \u001b[39mwrapper\u001b[39m(\u001b[39m*\u001b[39margs, \u001b[39m*\u001b[39m\u001b[39m*\u001b[39mkwargs):\n\u001b[1;32m   2359\u001b[0m     warnings\u001b[39m.\u001b[39mwarn(msg, category\u001b[39m=\u001b[39mcategory, stacklevel\u001b[39m=\u001b[39mstacklevel \u001b[39m+\u001b[39m \u001b[39m1\u001b[39m)\n\u001b[0;32m-> 2360\u001b[0m     \u001b[39mreturn\u001b[39;00m arg(\u001b[39m*\u001b[39;49margs, \u001b[39m*\u001b[39;49m\u001b[39m*\u001b[39;49mkwargs)\n",
      "File \u001b[0;32m~/Documents/dev/intelligent_ui/venv/lib/python3.11/site-packages/pydantic/main.py:976\u001b[0m, in \u001b[0;36mBaseModel.parse_obj\u001b[0;34m(cls, obj)\u001b[0m\n\u001b[1;32m    970\u001b[0m \u001b[39m@classmethod\u001b[39m\n\u001b[1;32m    971\u001b[0m \u001b[39m@typing_extensions\u001b[39m\u001b[39m.\u001b[39mdeprecated(\n\u001b[1;32m    972\u001b[0m     \u001b[39m'\u001b[39m\u001b[39mThe `parse_obj` method is deprecated; use `model_validate` instead.\u001b[39m\u001b[39m'\u001b[39m, category\u001b[39m=\u001b[39mPydanticDeprecatedSince20\n\u001b[1;32m    973\u001b[0m )\n\u001b[1;32m    974\u001b[0m \u001b[39mdef\u001b[39;00m \u001b[39mparse_obj\u001b[39m(\u001b[39mcls\u001b[39m: \u001b[39mtype\u001b[39m[Model], obj: Any) \u001b[39m-\u001b[39m\u001b[39m>\u001b[39m Model:  \u001b[39m# noqa: D102\u001b[39;00m\n\u001b[1;32m    975\u001b[0m     warnings\u001b[39m.\u001b[39mwarn(\u001b[39m'\u001b[39m\u001b[39mThe `parse_obj` method is deprecated; use `model_validate` instead.\u001b[39m\u001b[39m'\u001b[39m, \u001b[39mDeprecationWarning\u001b[39;00m)\n\u001b[0;32m--> 976\u001b[0m     \u001b[39mreturn\u001b[39;00m \u001b[39mcls\u001b[39;49m\u001b[39m.\u001b[39;49mmodel_validate(obj)\n",
      "File \u001b[0;32m~/Documents/dev/intelligent_ui/venv/lib/python3.11/site-packages/pydantic/main.py:504\u001b[0m, in \u001b[0;36mBaseModel.model_validate\u001b[0;34m(cls, obj, strict, from_attributes, context)\u001b[0m\n\u001b[1;32m    502\u001b[0m \u001b[39m# `__tracebackhide__` tells pytest and some other tools to omit this function from tracebacks\u001b[39;00m\n\u001b[1;32m    503\u001b[0m __tracebackhide__ \u001b[39m=\u001b[39m \u001b[39mTrue\u001b[39;00m\n\u001b[0;32m--> 504\u001b[0m \u001b[39mreturn\u001b[39;00m \u001b[39mcls\u001b[39;49m\u001b[39m.\u001b[39;49m__pydantic_validator__\u001b[39m.\u001b[39;49mvalidate_python(\n\u001b[1;32m    505\u001b[0m     obj, strict\u001b[39m=\u001b[39;49mstrict, from_attributes\u001b[39m=\u001b[39;49mfrom_attributes, context\u001b[39m=\u001b[39;49mcontext\n\u001b[1;32m    506\u001b[0m )\n",
      "\u001b[0;31mValidationError\u001b[0m: 7 validation errors for UI_INSTRUCTIONS_FORMAT\nui_element_1_min_value\n  Field required [type=missing, input_value={'ui_element_1_label': 'C...nt_3_type': 'TextInput'}, input_type=dict]\n    For further information visit https://errors.pydantic.dev/2.3/v/missing\nui_element_1_max_value\n  Field required [type=missing, input_value={'ui_element_1_label': 'C...nt_3_type': 'TextInput'}, input_type=dict]\n    For further information visit https://errors.pydantic.dev/2.3/v/missing\nui_element_2_min_value\n  Field required [type=missing, input_value={'ui_element_1_label': 'C...nt_3_type': 'TextInput'}, input_type=dict]\n    For further information visit https://errors.pydantic.dev/2.3/v/missing\nui_element_2_max_value\n  Field required [type=missing, input_value={'ui_element_1_label': 'C...nt_3_type': 'TextInput'}, input_type=dict]\n    For further information visit https://errors.pydantic.dev/2.3/v/missing\nui_element_3_options\n  Field required [type=missing, input_value={'ui_element_1_label': 'C...nt_3_type': 'TextInput'}, input_type=dict]\n    For further information visit https://errors.pydantic.dev/2.3/v/missing\nui_element_3_min_value\n  Field required [type=missing, input_value={'ui_element_1_label': 'C...nt_3_type': 'TextInput'}, input_type=dict]\n    For further information visit https://errors.pydantic.dev/2.3/v/missing\nui_element_3_max_value\n  Field required [type=missing, input_value={'ui_element_1_label': 'C...nt_3_type': 'TextInput'}, input_type=dict]\n    For further information visit https://errors.pydantic.dev/2.3/v/missing"
     ]
    }
   ],
   "source": [
    "code_response = code_model.get_response(prompt=formated_code_prompt)\n",
    "code_response_dict = dict(code_parser.parse(code_response))\n",
    "\n",
    "code_response_dict"
   ]
  },
  {
   "cell_type": "code",
   "execution_count": 13,
   "metadata": {},
   "outputs": [
    {
     "data": {
      "text/plain": [
       "'{\"ui_element_1_label\": \"Choose a specific species of dinosaur to explore\", \"ui_element_1_options\": [\"Tyrannosaurus rex\", \"Triceratops\", \"Stegosaurus\", \"Velociraptor\", \"Brachiosaurus\"], \"ui_element_1_type\": \"ListofButtons\", \"ui_element_2_label\": \"Choose a topic to explore\", \"ui_element_2_options\": [\"Dinosaur extinction\", \"Notable dinosaur discoveries\", \"Dinosaur habitats\", \"Dinosaur behavior\"], \"ui_element_2_type\": \"ListofButtons\", \"ui_element_3_label\": \"Enter your own question or topic\", \"ui_element_3_type\": \"TextInput\"}'"
      ]
     },
     "execution_count": 13,
     "metadata": {},
     "output_type": "execute_result"
    }
   ],
   "source": [
    "code_response\n"
   ]
  },
  {
   "cell_type": "markdown",
   "metadata": {},
   "source": []
  }
 ],
 "metadata": {
  "kernelspec": {
   "display_name": "venv",
   "language": "python",
   "name": "python3"
  },
  "language_info": {
   "codemirror_mode": {
    "name": "ipython",
    "version": 3
   },
   "file_extension": ".py",
   "mimetype": "text/x-python",
   "name": "python",
   "nbconvert_exporter": "python",
   "pygments_lexer": "ipython3",
   "version": "3.11.5"
  },
  "orig_nbformat": 4
 },
 "nbformat": 4,
 "nbformat_minor": 2
}
