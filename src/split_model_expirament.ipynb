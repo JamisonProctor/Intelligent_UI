{
 "cells": [
  {
   "cell_type": "code",
   "execution_count": 1,
   "metadata": {},
   "outputs": [],
   "source": [
    "#from langchain.chat_models import ChatOpenAI\n",
    "from langchain.llms import OpenAI\n",
    "\n",
    "import streamlit as st\n",
    "openai_api_key = st.secrets[\"OPENAI_API_KEY\"]\n",
    "\n",
    "# Select Model\n",
    "\n",
    "#content_model_name = 'gpt-3.5-turbo'\n",
    "#content_model_name = 'gpt-3.5-turbo-16k'\n",
    "content_model_name = 'gpt-4'\n",
    "\n",
    "#code_model_name = 'gpt-3.5-turbo'\n",
    "#code_model_name = 'gpt-3.5-turbo-16k'\n",
    "code_model_name = 'gpt-4'\n",
    "\n",
    "# Set model temperature\n",
    "content_model_temperature = 0.0\n",
    "code_model_temperature = 0.0\n",
    "\n",
    "class OpenAI_Chat_Model:\n",
    "    def __init__(self, model_name, temperature, api_key):\n",
    "        self.model_name = model_name\n",
    "        self.temperature = temperature\n",
    "        self.api_key = api_key\n",
    "        self.prompt = None\n",
    "        self.resp onse = None\n",
    "        \n",
    "\n",
    "    def get_response(self, prompt):\n",
    "        self.model = OpenAI(model_name = self.model_name, temperature = self.temperature, openai_api_key = self.api_key)\n",
    "        self.prompt = prompt\n",
    "        self.response = self.model(prompt)\n",
    "        return self.response\n",
    "\n",
    "    def get_report(self):\n",
    "        report = {\n",
    "            'model_name': self.model_name,\n",
    "            'temperature': self.temperature,\n",
    "            'prompt': self.prompt,\n",
    "            'response': self.response\n",
    "        }\n",
    "        return report"
   ]
  },
  {
   "cell_type": "code",
   "execution_count": 2,
   "metadata": {},
   "outputs": [],
   "source": [
    "from langchain.output_parsers import PydanticOutputParser\n",
    "from langchain.prompts import PromptTemplate\n",
    "\n",
    "from backend.models import UI_INSTRUCTIONS_FORMAT, CONTENT_INSTRUCTIONS_FORMAT\n",
    "\n",
    "content_parser = PydanticOutputParser(pydantic_object=CONTENT_INSTRUCTIONS_FORMAT)\n",
    "code_parser = PydanticOutputParser(pydantic_object=UI_INSTRUCTIONS_FORMAT)"
   ]
  },
  {
   "cell_type": "code",
   "execution_count": 3,
   "metadata": {},
   "outputs": [],
   "source": [
    "content_query = \"I want to learn about dinosaurs, but I don't know where to start.\""
   ]
  },
  {
   "cell_type": "code",
   "execution_count": 4,
   "metadata": {},
   "outputs": [],
   "source": [
    "content_prompt_template = PromptTemplate(\n",
    "    template = '''\n",
    "        You are a a highly knowegeable assitant having a conversation with a curious person.\n",
    "        Your job is to educate them about the topic they are interested in. \n",
    "\n",
    "        {format_instructions}\\n\n",
    "        {query}\\n''',\n",
    "        input_variables=[\"query\"],\n",
    "        partial_variables={\"format_instructions\": content_parser.get_format_instructions()},\n",
    "    )\n",
    "\n",
    "content_prompt = content_prompt_template.format_prompt(query=content_query).to_string()"
   ]
  },
  {
   "cell_type": "code",
   "execution_count": 5,
   "metadata": {},
   "outputs": [],
   "source": [
    "content_model = OpenAI_Chat_Model(model_name = content_model_name, temperature = content_model_temperature, api_key = openai_api_key)"
   ]
  },
  {
   "cell_type": "code",
   "execution_count": 6,
   "metadata": {},
   "outputs": [
    {
     "name": "stderr",
     "output_type": "stream",
     "text": [
      "/Users/jamisonproctor/Documents/dev/intelligent_ui/venv/lib/python3.11/site-packages/langchain/llms/openai.py:202: UserWarning: You are trying to use a chat model. This way of initializing it is no longer supported. Instead, please use: `from langchain.chat_models import ChatOpenAI`\n",
      "  warnings.warn(\n",
      "/Users/jamisonproctor/Documents/dev/intelligent_ui/venv/lib/python3.11/site-packages/langchain/llms/openai.py:790: UserWarning: You are trying to use a chat model. This way of initializing it is no longer supported. Instead, please use: `from langchain.chat_models import ChatOpenAI`\n",
      "  warnings.warn(\n"
     ]
    }
   ],
   "source": [
    "content_response = content_model.get_response(prompt=content_prompt)"
   ]
  },
  {
   "cell_type": "code",
   "execution_count": 7,
   "metadata": {},
   "outputs": [],
   "source": [
    "content_response_dict = dict(content_parser.parse(content_response))"
   ]
  },
  {
   "cell_type": "code",
   "execution_count": 8,
   "metadata": {},
   "outputs": [
    {
     "data": {
      "text/plain": [
       "{'Overview': \"Well, buckle up, because we're about to embark on a journey 230 million years back in time, to the Mesozoic Era! This was the age of the dinosaurs, a period that lasted for over 160 million years. Dinosaurs were a diverse group of reptiles, and they came in all shapes and sizes, from the mighty T-Rex, king of the predators, to the gentle, long-necked Brachiosaurus. 🦖🦕\\n\\nDinosaurs are classified into two main groups based on their hip structure: the Saurischia, which includes creatures like the T-Rex and the long-tailed, long-necked sauropodomorphs, and the Ornithischia, herbivores with bird-like hips. 🍖🌿\\n\\nBut it wasn't just land that these magnificent creatures dominated; there were also marine reptiles like the Plesiosaur, and flying reptiles like the Pterosaur. 🌊🌤️\\n\\nSadly, all good things must come to an end. The reign of the dinosaurs ended with a bang - literally - when a massive asteroid hit the earth about 65 million years ago. This event, known as the K-T extinction, wiped out about 75% of all species on Earth. 🌍💥\\n\\nBut don't be too sad! Dinosaurs live on in their descendants - birds! So next time you see a pigeon in the park, remember, it's a tiny T-Rex in disguise! 🐦➡️🦖\",\n",
       " 'Title': 'Dinosaurs: A Journey to the Mesozoic Era 🦖🦕'}"
      ]
     },
     "execution_count": 8,
     "metadata": {},
     "output_type": "execute_result"
    }
   ],
   "source": [
    "content_response_dict"
   ]
  },
  {
   "cell_type": "code",
   "execution_count": 9,
   "metadata": {},
   "outputs": [],
   "source": [
    "code_query = content_response_dict['Overview']"
   ]
  },
  {
   "cell_type": "code",
   "execution_count": 10,
   "metadata": {},
   "outputs": [],
   "source": [
    "code_prompt = PromptTemplate(\n",
    "    template = '''\n",
    "        You are a super creative teacher. You are very creative and have a lot of ideas.\n",
    "        You are great at helping people explore topics in a natural way.\n",
    "        You always use a lot of emojis to make your content more engaging.\n",
    "        \n",
    "        You will help to create a UI which will help the reader to further explore the topic.\n",
    "\n",
    "        Only respond using the format_instructions.\\n\n",
    "        \n",
    "        {format_instructions}\\n\n",
    "        {query}\\n''',\n",
    "        input_variables=[\"query\"],\n",
    "        partial_variables={\"format_instructions\": code_parser.get_format_instructions()},\n",
    "    )\n",
    "\n",
    "formated_code_prompt = code_prompt.format_prompt(query=code_query).to_string()"
   ]
  },
  {
   "cell_type": "code",
   "execution_count": 11,
   "metadata": {},
   "outputs": [],
   "source": [
    "code_model = OpenAI_Chat_Model(model_name = code_model_name, temperature = code_model_temperature, api_key = openai_api_key)"
   ]
  },
  {
   "cell_type": "code",
   "execution_count": 12,
   "metadata": {},
   "outputs": [
    {
     "data": {
      "text/plain": [
       "{'ui_element_1_type': 'SelectSlider',\n",
       " 'ui_element_1_label': 'Choose your favorite dinosaur era 🦖',\n",
       " 'ui_element_1_options': ['Triassic', 'Jurassic', 'Cretaceous'],\n",
       " 'ui_element_1_min_value': None,\n",
       " 'ui_element_1_max_value': None,\n",
       " 'ui_element_2_type': 'Checkbox',\n",
       " 'ui_element_2_label': 'Select the types of dinosaurs you want to learn about 🦕',\n",
       " 'ui_element_2_options': ['Saurischia 🍖',\n",
       "  'Ornithischia 🌿',\n",
       "  'Marine Reptiles 🌊',\n",
       "  'Flying Reptiles 🌤️'],\n",
       " 'ui_element_2_min_value': None,\n",
       " 'ui_element_2_max_value': None,\n",
       " 'ui_element_3_type': 'TextInput',\n",
       " 'ui_element_3_label': \"What's your question about dinosaurs? 🤔\",\n",
       " 'ui_element_3_options': None,\n",
       " 'ui_element_3_min_value': None,\n",
       " 'ui_element_3_max_value': None}"
      ]
     },
     "execution_count": 12,
     "metadata": {},
     "output_type": "execute_result"
    }
   ],
   "source": [
    "code_response = code_model.get_response(prompt=formated_code_prompt)\n",
    "code_response_dict = dict(code_parser.parse(code_response))\n",
    "\n",
    "code_response_dict"
   ]
  },
  {
   "cell_type": "code",
   "execution_count": 13,
   "metadata": {},
   "outputs": [
    {
     "data": {
      "text/plain": [
       "'{\\n  \"ui_element_1_type\": \"SelectSlider\",\\n  \"ui_element_1_label\": \"Choose your favorite dinosaur era 🦖\",\\n  \"ui_element_1_options\": [\"Triassic\", \"Jurassic\", \"Cretaceous\"],\\n  \"ui_element_1_min_value\": null,\\n  \"ui_element_1_max_value\": null,\\n  \"ui_element_2_type\": \"Checkbox\",\\n  \"ui_element_2_label\": \"Select the types of dinosaurs you want to learn about 🦕\",\\n  \"ui_element_2_options\": [\"Saurischia 🍖\", \"Ornithischia 🌿\", \"Marine Reptiles 🌊\", \"Flying Reptiles 🌤️\"],\\n  \"ui_element_2_min_value\": null,\\n  \"ui_element_2_max_value\": null,\\n  \"ui_element_3_type\": \"TextInput\",\\n  \"ui_element_3_label\": \"What\\'s your question about dinosaurs? 🤔\",\\n  \"ui_element_3_options\": null,\\n  \"ui_element_3_min_value\": null,\\n  \"ui_element_3_max_value\": null\\n}'"
      ]
     },
     "execution_count": 13,
     "metadata": {},
     "output_type": "execute_result"
    }
   ],
   "source": [
    "code_response\n"
   ]
  },
  {
   "cell_type": "markdown",
   "metadata": {},
   "source": []
  }
 ],
 "metadata": {
  "kernelspec": {
   "display_name": "venv",
   "language": "python",
   "name": "python3"
  },
  "language_info": {
   "codemirror_mode": {
    "name": "ipython",
    "version": 3
   },
   "file_extension": ".py",
   "mimetype": "text/x-python",
   "name": "python",
   "nbconvert_exporter": "python",
   "pygments_lexer": "ipython3",
   "version": "3.11.5"
  },
  "orig_nbformat": 4
 },
 "nbformat": 4,
 "nbformat_minor": 2
}
