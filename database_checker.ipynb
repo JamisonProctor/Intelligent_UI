{
 "cells": [
  {
   "cell_type": "code",
   "execution_count": 19,
   "metadata": {},
   "outputs": [
    {
     "name": "stdout",
     "output_type": "stream",
     "text": [
      "   id conversation_id            timestamp  \\\n",
      "0   1               1  2023-09-18 17:00:20   \n",
      "1   2               1  2023-09-18 17:00:53   \n",
      "2   3               3  2023-09-18 17:00:56   \n",
      "3   4               3  2023-09-18 17:00:56   \n",
      "4   5               5  2023-09-18 17:00:57   \n",
      "\n",
      "                                             content             type  \n",
      "0  I want to learn about dinosaurs, but I don't k...     conversation  \n",
      "1  {\"Overview\": \"Dinosaurs, the 'terrible lizards...  ui_instructions  \n",
      "2  I want to learn about dinosaurs, but I don't k...     conversation  \n",
      "3  {\"Overview\": \"Dinosaurs, the 'terrible lizards...  ui_instructions  \n",
      "4  I want to learn about dinosaurs, but I don't k...     conversation  \n"
     ]
    }
   ],
   "source": [
    "import sqlite3\n",
    "import pandas as pd\n",
    "\n",
    "# Connect to the SQLite database\n",
    "conn = sqlite3.connect('conversations.db')\n",
    "\n",
    "# Query the database and load the result into a pandas DataFrame\n",
    "df = pd.read_sql_query(\"SELECT * FROM conversations\", conn)\n",
    "\n",
    "# Display the DataFrame\n",
    "print(df.head())\n",
    "\n",
    "# Close the connection\n",
    "conn.close()\n",
    "df.tail()"
   ]
  },
  {
   "cell_type": "code",
   "execution_count": null,
   "metadata": {},
   "outputs": [],
   "source": [
    "df"
   ]
  }
 ],
 "metadata": {
  "kernelspec": {
   "display_name": "venv",
   "language": "python",
   "name": "python3"
  },
  "language_info": {
   "codemirror_mode": {
    "name": "ipython",
    "version": 3
   },
   "file_extension": ".py",
   "mimetype": "text/x-python",
   "name": "python",
   "nbconvert_exporter": "python",
   "pygments_lexer": "ipython3",
   "version": "3.11.3"
  },
  "orig_nbformat": 4
 },
 "nbformat": 4,
 "nbformat_minor": 2
}
